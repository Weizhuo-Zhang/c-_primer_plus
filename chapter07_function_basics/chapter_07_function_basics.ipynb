{
  "nbformat": 4,
  "nbformat_minor": 0,
  "metadata": {
    "colab": {
      "name": "chapter_07_function_basics.ipynb",
      "provenance": []
    },
    "kernelspec": {
      "name": "python3",
      "display_name": "Python 3"
    }
  },
  "cells": [
    {
      "cell_type": "markdown",
      "metadata": {
        "id": "R7MeIVOGLAJJ",
        "colab_type": "text"
      },
      "source": [
        "# 第7章 函数 -- C++ 的编程模块\n",
        "\n",
        "## 7.2 函数参数和按值传递\n",
        "\n",
        "C++ 标准使用参数(argument)表示实参，使用参量(parameter)来表示形参。\n",
        "\n",
        "## 7.3 函数和数组\n",
        "\n",
        "### 7.3.3 更多数组函数示例\n",
        "\n",
        "#### 1. 填充数组\n",
        "\n",
        "#### 2. 显示数组及用const保护数组\n",
        "\n",
        "为了防止函数无意中修改数组的内容，可以在声明形参时，使用关键字`const`。该声明表示，指针ar指向的是常量数据，不能通过ar修改该数据。\n",
        "```c\n",
        "void show_array(const double ar[], int n);\n",
        "```"
      ]
    }
  ]
}