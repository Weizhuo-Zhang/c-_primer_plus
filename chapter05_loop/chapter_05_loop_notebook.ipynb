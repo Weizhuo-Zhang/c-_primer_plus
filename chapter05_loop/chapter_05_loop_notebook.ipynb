{
  "nbformat": 4,
  "nbformat_minor": 0,
  "metadata": {
    "colab": {
      "name": "chapter_05_loop_notebook.ipynb",
      "provenance": []
    },
    "kernelspec": {
      "name": "python3",
      "display_name": "Python 3"
    }
  },
  "cells": [
    {
      "cell_type": "markdown",
      "metadata": {
        "id": "49w49D7ZmHtj",
        "colab_type": "text"
      },
      "source": [
        "# 第5章 循环和关系表达式\n",
        "\n",
        "## 5.1 for 循环\n",
        "\n",
        "### 5.1.1 for 循环组成部分\n",
        "\n",
        "**程序清单5.3 express.cpp**\n",
        "```c\n",
        "// express.cpp -- values of expressions\n",
        "#include <iostream>\n",
        "int main() {\n",
        "    using namespace std;\n",
        "    int x;\n",
        "    cout << \"The expression x = 100 has the value \";\n",
        "    cout << (x = 100) << endl;\n",
        "    cout << \"Now x = \" << x << endl;\n",
        "    cout << \"The expression x < 3 has the value\";\n",
        "    cout << (x < 3) << endl;\n",
        "    cout << \"The expression x > 3 has the value\";\n",
        "    cout << (x > 3) << endl;\n",
        "\n",
        "    cout.setf(ios_base::boolalpha);  // a newer C++ feature\n",
        "    cout << \"The expression x < 3 has the value\";\n",
        "    cout << (x < 3) << endl;\n",
        "    cout << \"The expression x > 3 has the value\";\n",
        "    cout << (x > 3) << endl;\n",
        "    return 0;\n",
        "}\n",
        "```\n",
        "**注意：**老式的C++实现可能要求使用`ios: boolalpha`，而不是`ios_base::boolalpha`来作为`cout.setf()`的参数。有些老式实现甚至无法识别这两种形式。\n",
        "\n",
        "```\n",
        "输出\n",
        "The expression x = 100 has the value 100\n",
        "Now x = 100\n",
        "The expression x < 3 has the value 0\n",
        "The expression x > 3 has the value 1\n",
        "The expression x < 3 has the value false\n",
        "The expression x > 3 has the value true\n",
        "```\n",
        "\n",
        "`cout.setf(ios_base::boolalpha)`函数调用饿了一个标记，该标记命令`cout`显示`true`和`false`，而不是1和0。\n",
        "\n",
        "---"
      ]
    },
    {
      "cell_type": "markdown",
      "metadata": {
        "id": "BVC1TpaZzdqi",
        "colab_type": "text"
      },
      "source": [
        "## 5.2 while 循环\n",
        "\n",
        "### 5.2.2 等待一段时间：编写延时循环\n",
        "\n",
        "C++ 库中`clock()`函数返回程序开始执行后所用段系统时间，但是存在两个复杂的问题：\n",
        "1. `clock()`返回的时间单位不一定是秒\n",
        "2. 该函数的返回类型在某些系统上可能是long，在另一些系统上可能是`unsigned long`或其他类型。\n",
        "\n",
        "但头文件`ctime`提供了解决方案。首先，它定义了一个符号常量 -- CLOCK_PER_SEC，该常量等于每秒钟包含但系统时间单位数。因此，将系统时间除以这个值，可以得到秒数。或者将秒数乘以CLOCK_PER_SEC，可以得到以系统时间为单位的时间。其次，ctime将clock_t作为clock()返回类型的别名，这意味着可以将变量声明为`clock_t`类型，编译器将把它转换为`long`，`unsigned int`或适合系统的其他类型。\n",
        "\n",
        "**程序清单 5.14 waiting.cpp**\n",
        "```c\n",
        "// waiting.cpp -- using clock() in a time delay loop\n",
        "#include <iostream>\n",
        "#include <ctime>\n",
        "int main() {\n",
        "    using namespace std;\n",
        "    cout << \"Enter the delay time, in seconds: \";\n",
        "    float secs;\n",
        "    cin >> secs;\n",
        "    clock_t delay = secs * CLOCKS_PER_SEC; // convert to clock ticks\n",
        "    cout << \"starting\\a\\n\";\n",
        "    clock_t start = clock();\n",
        "    while(clock() - start < delay)\n",
        "        ;\n",
        "    cout << \"done\\a\\n\";\n",
        "    return 0;\n",
        "}\n",
        "```\n",
        "\n",
        "#### 类型别名\n",
        "1. `#define BYTE char`\n",
        "2. ```c\n",
        "// typedef typeName aliasName;\n",
        "typedef char byte;\n",
        "```\n",
        "\n",
        "**#define 声明指针问题**\n",
        "\n",
        "以下代码中只有pa是指针，pb只是float，但是`typedef`不会有这种问题。\n",
        "```c\n",
        "#define FLOAT_POINTER float *\n",
        "FLOAT_POINTER pa, pb\n",
        "```\n",
        "\n",
        "---"
      ]
    },
    {
      "cell_type": "markdown",
      "metadata": {
        "id": "8GU-2sun2PQS",
        "colab_type": "text"
      },
      "source": [
        "## 5.3 do while 循环\n",
        "\n",
        "## 5.4 基于范围的for循环(C++11)"
      ]
    }
  ]
}