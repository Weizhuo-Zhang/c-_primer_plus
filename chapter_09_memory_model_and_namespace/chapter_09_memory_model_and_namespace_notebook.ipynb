{
  "nbformat": 4,
  "nbformat_minor": 0,
  "metadata": {
    "colab": {
      "name": "chapter_09_memory_model_and_namespace_notebook.ipynb",
      "provenance": []
    },
    "kernelspec": {
      "name": "python3",
      "display_name": "Python 3"
    }
  },
  "cells": [
    {
      "cell_type": "markdown",
      "metadata": {
        "id": "l88_w8fIJv8v",
        "colab_type": "text"
      },
      "source": [
        "# 第9章\n",
        "\n",
        "## 9.1 单独编译\n",
        "\n",
        "头文件通常包含以下内容\n",
        "- 函数原型\n",
        "- 使用 #define 或 const 定义的符号常量\n",
        "- 结构声明\n",
        "- 类声明\n",
        "- 模板声明\n",
        "- 内联函数\n",
        "\n",
        "**程序清单 9.1 coordin.h**\n"
      ]
    }
  ]
}