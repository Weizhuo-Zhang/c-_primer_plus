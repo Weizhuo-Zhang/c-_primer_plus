{
  "nbformat": 4,
  "nbformat_minor": 0,
  "metadata": {
    "colab": {
      "name": "chapter_07_function_basics.ipynb",
      "provenance": []
    },
    "kernelspec": {
      "name": "python3",
      "display_name": "Python 3"
    }
  },
  "cells": [
    {
      "cell_type": "markdown",
      "metadata": {
        "id": "R7MeIVOGLAJJ",
        "colab_type": "text"
      },
      "source": [
        "# 第7章 函数 -- C++ 的编程模块\n",
        "\n",
        "## 7.2 函数参数和按值传递\n",
        "\n",
        "C++ 标准使用参数(argument)表示实参，使用参量(parameter)来表示形参。\n",
        "\n",
        "## 7.3 函数和数组\n",
        "\n",
        "### 7.3.3 更多数组函数示例\n",
        "\n",
        "#### 1. 填充数组\n",
        "\n",
        "#### 2. 显示数组及用const保护数组\n",
        "\n",
        "为了防止函数无意中修改数组的内容，可以在声明形参时，使用关键字`const`。该声明表示，指针ar指向的是常量数据，不能通过ar修改该数据。\n",
        "```c\n",
        "void show_array(const double ar[], int n);\n",
        "```\n",
        "\n",
        "#### 3. 修改数组\n",
        "\n",
        "#### 6. 数组处理函数的常用编写方式\n",
        "- 如果函数要修改数组：\n",
        "```\n",
        "void f_modify(double ar[], int n);\n",
        "```\n",
        "- 如果函数不修改数组：\n",
        "```\n",
        "void f_no_change(const double ar[], int n);\n",
        "```\n",
        "\n",
        "以上函数缺少了原始数组的信息，例如：它不能通过sizeof来获取原始数组的长度，而必须依赖于输入参数。\n",
        "\n",
        "### 7.3.4 使用数组区间的函数\n",
        "传统C/C++，将数组起始处的指针作为第一个参数，将数组长度作为第二个参数。\n",
        "\n",
        "另一种是通过指定元素区间(range)，这通过两个指针实现：\n",
        "```\n",
        "double elbound[20];\n",
        "```\n",
        "- 一个指针标识数组的开头 -- `elbound`\n",
        "- 另一个指针标识数组的尾部 -- `elbound + 20`，`elbound + 19`指向最后一个元素(即`elbound[19]`)，因此`elbound + 20`指向数组结尾后面的一个位置。\n",
        "\n",
        "### 7.3.5 指针和const\n",
        "\n",
        "以下声明指出，`pt`指向一个`const int`(这里为39)，因此不能使用`pt`来修改这个值。\n",
        "```\n",
        "int age = 39;\n",
        "const int * pt = &age;\n",
        "```\n",
        "\n"
      ]
    }
  ]
}