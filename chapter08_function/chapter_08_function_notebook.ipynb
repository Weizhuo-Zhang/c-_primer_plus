{
  "nbformat": 4,
  "nbformat_minor": 0,
  "metadata": {
    "colab": {
      "name": "chapter_08_function_notebook.ipynb",
      "provenance": [],
      "include_colab_link": true
    },
    "kernelspec": {
      "name": "python3",
      "display_name": "Python 3"
    }
  },
  "cells": [
    {
      "cell_type": "markdown",
      "metadata": {
        "id": "view-in-github",
        "colab_type": "text"
      },
      "source": [
        "<a href=\"https://colab.research.google.com/github/Weizhuo-Zhang/c-_primer_plus/blob/master/chapter08_function/chapter_08_function_notebook.ipynb\" target=\"_parent\"><img src=\"https://colab.research.google.com/assets/colab-badge.svg\" alt=\"Open In Colab\"/></a>"
      ]
    },
    {
      "cell_type": "markdown",
      "metadata": {
        "id": "8uhEwxMgtwzn",
        "colab_type": "text"
      },
      "source": [
        "# 第8章 函数探幽\n",
        "\n",
        "---"
      ]
    },
    {
      "cell_type": "markdown",
      "metadata": {
        "id": "AQxpgKnNuB-H",
        "colab_type": "text"
      },
      "source": [
        "## 8.5 函数模板\n",
        "\n",
        "函数模板是通用的函数描述，也就是说，它们使用泛型来定义函数，其中的泛型可用具体的类型（如int或double）替换。通过将类型作为参数传递给模板，可使编译器生成该类型的函数。由于模板允许以泛型（而不是具体类型）的方式编写程序。因此有时也被称为通用编程。由于类型是用参数表示的，因此模板特性有时也被称为参数化类型(parameterized types)。\n",
        "\n",
        "函数模板允许以任意类型的方式来定义函数。例如，可以这样建立一个交换模板：\n",
        "```c\n",
        "template <typename AnyType>\n",
        "void Swap(AnyType &a, AnyType &b)\n",
        "{\n",
        "    AnyType temp;\n",
        "    temp = a;\n",
        "    a = b;\n",
        "    b = temp;\n",
        "}\n",
        "```\n",
        "\n",
        "第一行指出，要建立一个模板，并将类型命名为`AnyType`。关键字template 和 typename 是必需的，除非可以使用关键字`class`代替`typename`。另外必须使用尖括号。类型名可以任意选择(这里为`AnyType`)\n",
        "\n",
        "\n",
        "#### 程序清单 8.11 funtemp.cpp\n",
        "```c\n",
        "//funtemp.cpp -- using a function template\n",
        "#include <iostream>\n",
        "// Function template prototype\n",
        "template <typename T>          // or class T\n",
        "void Swap(T &a, T &b);\n",
        "\n",
        "int main()\n",
        "{\n",
        "    using namespace std;\n",
        "    int i = 10;\n",
        "    int j = 20;\n",
        "    cout << \"i, j = \" << i << \", \" << j << \".\\n\";\n",
        "    cout << \"Using compiler generated int swapper:\\n\";\n",
        "    Swap(i, j);    // generates void Swap(int &, int &)\n",
        "    cout << \"Now i, j = \" << i << \", \" << j << \".\\n\";\n",
        "    \n",
        "    double x = 24.5;\n",
        "    double y = 81.5;\n",
        "    cout << \"x, y = \" << x << \", \" << y << \".\\n\";\n",
        "    cout << \"Using compiler generated double swapper:\\n\";\n",
        "    Swap(x, y);    // generates void Swap(double &, double &)\n",
        "    cout << \"Now x, y = \" << x << \", \" << y << \".\\n\";\n",
        "    return 0;\n",
        "}\n",
        "\n",
        "// function template definition\n",
        "template <typename T> // or class T\n",
        "void Swap(T &a, T &b)\n",
        "{\n",
        "    T temp;           // temp a variable of type T\n",
        "    temp = a;\n",
        "    a = b;\n",
        "    b = temp;\n",
        "}\n",
        "```\n",
        "\n",
        "注意，模板函数不能缩短可执行程序。对于程序清单8.11，最终仍由两个独立的函数定义。更常见的情形是，将模板放在头文件中，并在需要使用模板的文件中包含头文件。\n",
        "\n",
        "### 8.5.1 重载的模板"
      ]
    }
  ]
}