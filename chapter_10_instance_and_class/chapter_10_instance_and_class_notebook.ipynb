{
  "nbformat": 4,
  "nbformat_minor": 0,
  "metadata": {
    "colab": {
      "name": "chapter_10_instance_and_class_notebook.ipynb",
      "provenance": []
    },
    "kernelspec": {
      "name": "python3",
      "display_name": "Python 3"
    }
  },
  "cells": [
    {
      "cell_type": "markdown",
      "metadata": {
        "id": "l-pBQDdf_Bvk",
        "colab_type": "text"
      },
      "source": [
        "# 第10章 对象和类\n",
        "\n",
        "OOP特性：\n",
        "- 抽象\n",
        "- 封装和数据隐藏\n",
        "- 多态\n",
        "- 继承\n",
        "- 代码的可重用性\n",
        "\n",
        "## 10.1 过程性编程和面向对象编程\n",
        "\n",
        "## 10.2 抽象和类\n",
        "\n",
        "### 10.2.1 类型是什么\n",
        "\n",
        "### 10.2.2 C++中的类\n",
        "\n",
        "#### 1. 访问控制\n",
        "\n",
        "#### 2. 控制对成员的访问：公有还是私有\n",
        "不必在类声明中使用关键字`private`，因为这是类对象的默认访问控制：\n",
        "```c\n",
        "class World\n",
        "{\n",
        "    float mass;      // private by default\n",
        "    char name[20];   // private by default\n",
        "public:\n",
        "    void tellall(void);\n",
        "    ...\n",
        "};\n",
        "```\n",
        "\n",
        "### 10.2.3 实现类的成员函数\n",
        "- 定义成员函数时，使用作用域解析符(::)来标识函数所属类；\n",
        "```c\n",
        "void Stock::update(double price)\n",
        "```\n",
        "\n",
        "- 类方法可以访问类的`private`组件\n",
        "\n",
        "### 10.2.4 使用类\n",
        "\n",
        "### 10.2.5 修改实现\n",
        "\n",
        "### 10.2.6 小结\n",
        "\n",
        "---"
      ]
    },
    {
      "cell_type": "markdown",
      "metadata": {
        "id": "-3Oi75JrDQZI",
        "colab_type": "text"
      },
      "source": [
        "## 10.3 类的构造函数和析构函数\n",
        "\n",
        "### 10.3.1 声明和定义构造函数\n",
        "\n",
        "### 10.3.2 使用构造函数\n",
        "```c\n",
        "Stock food = Stock(\"World Cabbage\", 250, 1.25);\n",
        "Stock garment(\"Furry Mason\", 50, 2.5);\n",
        "Stock *pstock = new Stock(\"Electroshock Games\", 18, 19.0);\n",
        "```\n",
        "\n",
        "### 10.3.3 默认构造函数\n",
        "```c\n",
        "Stock fuffy_the_cat;\n",
        "```\n",
        "\n",
        "### 10.3.4 析构函数\n",
        "\n",
        "### 10.3.5 改进Stock类\n",
        "\n",
        "#### 6. const 成员函数\n",
        "```c\n",
        "const Stock land = Stock(\"Klu\");\n",
        "land.show();\n",
        "```\n",
        "编译器将拒绝第二行，因为`show()`无法确保调用对象不被修改，需要将函数声明修改为：\n",
        "```c\n",
        "void show() const;\n",
        "```\n",
        "\n",
        "函数定义的开头应该为:\n",
        "```c\n",
        "void Stock::show() const\n",
        "```\n",
        "\n",
        "### 10.3.6 构造函数和析构函数的小结\n",
        "\n",
        "---"
      ]
    },
    {
      "cell_type": "markdown",
      "metadata": {
        "id": "QBcemNQ7IUOH",
        "colab_type": "text"
      },
      "source": [
        "## 10.4 this指针\n",
        "\n"
      ]
    }
  ]
}