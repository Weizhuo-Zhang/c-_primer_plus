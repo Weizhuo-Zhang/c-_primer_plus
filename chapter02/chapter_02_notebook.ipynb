{
 "cells": [
  {
   "cell_type": "markdown",
   "metadata": {},
   "source": [
    "# 第2章 开始学习C++\n",
    "## 2.1进入C++\n",
    "\n",
    "\n",
    "---"
   ]
  },
  {
   "cell_type": "markdown",
   "metadata": {},
   "source": [
    "## 练习题：\n",
    "- 2.1： C++程序的模块叫什么\n",
    "  - 函数\n",
    "\n",
    "- 2.2：下面的预处理器编译指令是做什么用的\n",
    "`#include <iostream>`\n",
    "  - 将iostream 头文件导入进来\n",
    "  - 导致在最终编译前，使用`iostream`文件的内容替换该编译命令\n",
    "  \n",
    "- 2.3：下面的语句是做什么用的？\n",
    "`using namespace std`\n",
    "  - 引入命名空间 `std`\n",
    "  - 它使得程序可以改使用`std`名称空间中的定义 \n",
    "  \n",
    "- 2.4：什么语句可以用来打印短语`Hello, world`，然后开始新的一行？\n",
    "  - `std::cout << \"Hello, world\" << std::endl;`\n",
    "  \n",
    "- 2.5：什么语句可以用来创建名为`cheeses`的整数变量？\n",
    "  - `int cheeses;`\n",
    "  \n",
    "- 2.6：什么语句可以用来将值`32`赋给变量`cheeses`中？\n",
    "  - `cheeses = 32;`\n",
    "  \n",
    "- 2.7：什么语句可以用来将从键盘输入的值读入变量`cheeses`中？\n",
    "  - `cin >> cheeses`\n",
    "\n",
    "- 2.8：什么语句可以用来打印`We have X varieties of cheese`，其中X为变量`cheeses`的当前值。\n",
    "  - `cout << \"We have \" << cheeses << \" varieties of cheese\" << endl;`\n",
    "\n",
    "- 2.9：下面的函数原型指出了关于函数的哪些信息？\n",
    "```c++\n",
    "int froop(doubel t);\n",
    "void rattle(int n);\n",
    "int prune(void);\n",
    "```\n",
    "\n",
    "- 2.10：定义函数时，在什么情况下不必使用关键字`return`？\n",
    "  - 当函数的返回值类型是`void`时。\n",
    "\n",
    "\n",
    "- 2.11 假设您编写的`main()`函数包含以下代码：`cout << \"Please enter yout PIN: \";`。而编译器指出`cout`是一个未知的表示符，导致这种问题的原因可能是什么？指出3种修复这种问题的方法。\n",
    "  1. `#include <iostream>`\n",
    "  2. `using namespace std;`\n",
    "  3. ``"
   ]
  }
 ],
 "metadata": {
  "kernelspec": {
   "display_name": "C++11",
   "language": "C++11",
   "name": "xcpp11"
  },
  "language_info": {
   "codemirror_mode": "text/x-c++src",
   "file_extension": ".cpp",
   "mimetype": "text/x-c++src",
   "name": "c++",
   "version": "-std=c++11"
  }
 },
 "nbformat": 4,
 "nbformat_minor": 2
}
