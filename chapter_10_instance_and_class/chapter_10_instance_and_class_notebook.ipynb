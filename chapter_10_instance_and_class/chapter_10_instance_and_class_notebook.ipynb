{
  "nbformat": 4,
  "nbformat_minor": 0,
  "metadata": {
    "colab": {
      "name": "chapter_10_instance_and_class_notebook.ipynb",
      "provenance": []
    },
    "kernelspec": {
      "name": "python3",
      "display_name": "Python 3"
    }
  },
  "cells": [
    {
      "cell_type": "markdown",
      "metadata": {
        "id": "l-pBQDdf_Bvk",
        "colab_type": "text"
      },
      "source": [
        ""
      ]
    }
  ]
}