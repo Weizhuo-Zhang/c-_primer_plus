{
 "cells": [
  {
   "cell_type": "markdown",
   "metadata": {},
   "source": [
    "# 第14章 C++中的代码重用\n",
    "\n",
    "## 14.1 包含对象成员的类\n",
    "\n",
    "### 14.1.1 valarray类简介\n",
    "\n",
    "valarray类是由头文件 valarray 支持的。定义了数组中的方法，包括所有元素相加、最大值和最小值等。\n",
    "\n",
    "### 14.1.2 Student类的设计\n",
    "\n",
    "### 14.1.1 Student类示例\n",
    "\n",
    "---"
   ]
  },
  {
   "cell_type": "markdown",
   "metadata": {},
   "source": [
    "## 14.2 私有继承\n",
    "\n",
    "包含将对对象作为一个命名的成员对象\n",
    "\n",
    "### 14.2.1 Student类示例（新版本）\n",
    "\n",
    "### 14.2.2 使用包含还是私有继承\n",
    "\n",
    "### 14.2.3 保护继承\n",
    "\n",
    "### 14.2.4 使用using重新定义访问权限\n"
   ]
  },
  {
   "cell_type": "markdown",
   "metadata": {},
   "source": [
    "## 14.3 多重继承\n",
    "\n",
    "### 14.3.1 有多少Worker\n",
    "\n",
    "### 14.3.2 哪个方法\n",
    "\n",
    "### 14.3.3 MI 小结\n"
   ]
  },
  {
   "cell_type": "markdown",
   "metadata": {},
   "source": [
    "## 14.4 类模板\n",
    "\n",
    "### 14.4.1 定义类模板\n",
    "\n",
    "### 14.4.2 使用模板类\n",
    "\n",
    "### 14.4.3 深入探讨模板类\n",
    "\n",
    "### 14.4.4 数组模板示例和非类型参数\n",
    "\n",
    "### 14.4.5模板多功能性\n",
    "\n",
    "---"
   ]
  },
  {
   "cell_type": "markdown",
   "metadata": {},
   "source": [
    "### 14.4.6 模板的具体化\n",
    "\n",
    "### 14.4.7 成员模板\n",
    "\n",
    "### 14.4.8 将模板用作参数\n",
    "\n",
    "### 14.4.9 模板类和友元\n",
    "\n",
    "### 14.4.10 模板别名（C++11）\n",
    "\n",
    "---"
   ]
  }
 ],
 "metadata": {
  "kernelspec": {
   "display_name": "Python 3",
   "language": "python",
   "name": "python3"
  },
  "language_info": {
   "codemirror_mode": {
    "name": "ipython",
    "version": 3
   },
   "file_extension": ".py",
   "mimetype": "text/x-python",
   "name": "python",
   "nbconvert_exporter": "python",
   "pygments_lexer": "ipython3",
   "version": "3.7.3"
  }
 },
 "nbformat": 4,
 "nbformat_minor": 2
}
