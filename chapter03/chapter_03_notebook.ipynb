{
 "cells": [
  {
   "cell_type": "markdown",
   "metadata": {},
   "source": [
    "# 第3章 处理数据\n",
    "\n",
    "## 3.1 简单变量\n",
    "### 3.1.1 变量名\n",
    "### 3.1.2 整型\n",
    "### 3.1.3 整型 short、int、long和long long\n",
    "C++ 提供了一种灵活的标准，它确保了最小长度（从C语言借鉴而来）：\n",
    "- `short` 至少 16 位\n",
    "- `int` 至少与 `short` 一样长\n",
    "- `long` 至少 32 位，且至少与 `int` 一样长\n",
    "- `long long` 至少 64 位，且至少与 `long` 一样长\n",
    "\n",
    "\n",
    "#### climits 中的符号常量\n",
    "`climits`文件中提供了关于整型限制的信息。\n",
    "\n",
    "|符号常量|表示|\n",
    "|---|---|\n",
    "| CHAR_BIT | char的位数|\n",
    "| CHAR_MAX | char的最大值 |\n",
    "| CHAR_MIN | char的最小值 |\n",
    "| SCHAR_MAX | signed char 的最大值 |\n",
    "| SCHAR_MIN | signed char 的最小值 |\n",
    "| UCHAR_MAX | unsigned char 的最大值 |\n",
    "| SHRT_MAX | short 的最大值 |\n",
    "| SHRT_MIN | short 的最小值 |\n",
    "| USHRT_MAX | unsigned short 的最大值 |\n",
    "| INT_MAX | int 的最大值 |\n",
    "| INT_MIN | int 的最小值 |\n",
    "| UNIT_MAX | unsigned int 的最大值 |\n",
    "| LONG_MAX | long 的最大值 |\n",
    "| LONG_MIN | long 的最小值 |\n",
    "| ULONG_MAX | unsigned long 的最大值|\n",
    "| LLONG_MAX | long long 的最大值 |\n",
    "| LLONG_MIN | long long 的最小值 |\n",
    "| ULLONG_MAX | unsigned long long 的最大值 |\n",
    "\n",
    "---"
   ]
  },
  {
   "cell_type": "markdown",
   "metadata": {},
   "source": [
    "#### C++独有的初始化语法\n",
    "```c++\n",
    "int wrens(432);\n",
    "```\n",
    "\n",
    "#### C++11初始化方式\n",
    "还有另一种初始化的方式，这种方式用于数组和结构，但在C++98中，也可用于单值变量：\n",
    "```c++\n",
    "int hamburgers = {24};\n",
    "```\n",
    "\n",
    "将大括号初始化器用于单值变量的情形还不多，但C++11标准使得这种情形更多了。首先，采用这种方式时，可以使用等号（=），也可以不使用：\n",
    "```c++\n",
    "int emus{7};\n",
    "int rheas = {12};\n",
    "```\n",
    "\n",
    "其次，大括号内可以不包含任何东西。在这种情况下，变量将被初始化位零：\n",
    "```c++\n",
    "int rocs = {};\n",
    "int psychics{};\n",
    "```\n",
    "\n",
    "---"
   ]
  },
  {
   "cell_type": "markdown",
   "metadata": {},
   "source": [
    "### 3.1.4 无符号类型\n",
    "\n",
    "<img src=\"pics/int_exceeds.jpeg\" width=\"70%\">\n",
    "\n",
    "---"
   ]
  },
  {
   "cell_type": "markdown",
   "metadata": {},
   "source": [
    "### 3.1.5 选择整型类型\n"
   ]
  }
 ],
 "metadata": {
  "kernelspec": {
   "display_name": "C++11",
   "language": "C++11",
   "name": "xcpp11"
  },
  "language_info": {
   "codemirror_mode": "text/x-c++src",
   "file_extension": ".cpp",
   "mimetype": "text/x-c++src",
   "name": "c++",
   "version": "-std=c++11"
  }
 },
 "nbformat": 4,
 "nbformat_minor": 2
}
