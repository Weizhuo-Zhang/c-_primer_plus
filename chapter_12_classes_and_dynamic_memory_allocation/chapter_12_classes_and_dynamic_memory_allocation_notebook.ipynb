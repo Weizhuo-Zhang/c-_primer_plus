{
 "cells": [
  {
   "cell_type": "markdown",
   "metadata": {},
   "source": [
    "# 第12章 类和动态内存分配\n",
    "\n",
    "## 12.1 动态内存和类\n",
    "\n",
    "### 12.1.1 复习示例和静态类成员\n",
    "\n",
    "#### [程序清单 12.1 stringbad.h](notebook_codes/code_12_1_stringbad.h)\n",
    "\n",
    "#### [程序清单 12.2 stringbad.cpp](notebook_codes/code_12_2_stringbad.cpp)\n",
    "\n",
    "**注意：**静态数据成员在类声明中声明，在包含类方法的文件中初始化。初始化时使用作用域运算符来指出静态成员所属的类。但如果静态成员时整型或者枚举型const，则可以在类声明中初始化。\n",
    "\n",
    "#### [程序清单 12.3 vegnews.cpp](notebook_codes/code_12_3_vegnews.cpp)\n",
    "\n",
    "\n",
    "### 12.1.2 特殊成员函数\n",
    "C++ 自动提供了下面这些成员函数：\n",
    "- 默认构造函数，如果没有定义构造函数\n",
    "- 默认析构函数，如果没有定义\n",
    "- 复制构造函数，如果没有定义\n",
    "- 赋值运算符，如果没有定义\n",
    "- 地址运算符，如果没有定义\n",
    "\n",
    "#### 1. 默认构造函数\n",
    "如果没有提供任何构造函数，C++将创建默认构造函数。例如，假如定义了一个`Klunk`类，但没有提供任何构造函数，则编译器将提供下述默认构造函数：\n",
    "```c\n",
    "Klunk::Klunk() { } // implicit default constructor\n",
    "```\n",
    "\n",
    "\n",
    "### 12.1.3 回到Stringbad: 复制构造函数哪里出了问题\n",
    "\n",
    "### 12.1.4 Stringbad的其他问题：赋值运算符\n",
    "\n",
    "---"
   ]
  },
  {
   "cell_type": "markdown",
   "metadata": {},
   "source": [
    "## 12.2 改进后的新String类\n",
    "\n",
    "### 12.2.1 修订后的默认构造函数\n",
    "\n",
    "### 12.2.2 比较成员函数\n",
    "\n",
    "### 12.2.3 使用中括号表示法访问字符\n",
    "\n",
    "### 12.2.4 静态类成员函数\n",
    "\n",
    "### 12.2.5 进一步重载赋值运算符\n",
    "\n",
    "---"
   ]
  },
  {
   "cell_type": "markdown",
   "metadata": {},
   "source": [
    "## 12.3 在构造函数中使用new时应该注意的事项\n",
    "\n",
    "### 12.3.1 应该和不应该\n",
    "\n",
    "### 12.3.2 包含类成员的类的逐成员复制\n",
    "\n",
    "---"
   ]
  },
  {
   "cell_type": "markdown",
   "metadata": {},
   "source": [
    "## 12.4 有关返回对象的说明\n",
    "\n",
    "### 12.4.1 返回指向const对象的引用\n",
    "\n",
    "### 12.4.2 返回指向非const对象的引用\n",
    "\n",
    "### 12.4.3 返回对象\n",
    "\n",
    "### 12.4.4 返回const 对象\n",
    "\n",
    "---"
   ]
  },
  {
   "cell_type": "markdown",
   "metadata": {},
   "source": [
    "## 12.5 使用指向对象的指针\n",
    "\n",
    "### 12.5.1 再谈new和delete\n",
    "\n",
    "### 12.5.2 指针和对象小结\n",
    "\n",
    "### 12.5.3 再谈定位new运算符\n",
    "\n",
    "---"
   ]
  },
  {
   "cell_type": "markdown",
   "metadata": {},
   "source": [
    "## 12.6 复习各种技术\n",
    "\n",
    "### 12.6.1 重载<<预算符\n",
    "\n",
    "### 12.6.2 转换函数\n",
    "\n",
    "### 12.6.3 其构造函数使用new的类\n",
    "\n",
    "---"
   ]
  },
  {
   "cell_type": "markdown",
   "metadata": {},
   "source": [
    "## 12.7 队列模拟\n",
    "\n",
    "### 12.7.1 队列类\n",
    "\n",
    "### 12.7.2 Customer 类\n",
    "\n",
    "### 12.7.3 ATM 模拟\n",
    "\n",
    "---"
   ]
  }
 ],
 "metadata": {
  "kernelspec": {
   "display_name": "Python 3",
   "language": "python",
   "name": "python3"
  },
  "language_info": {
   "codemirror_mode": {
    "name": "ipython",
    "version": 3
   },
   "file_extension": ".py",
   "mimetype": "text/x-python",
   "name": "python",
   "nbconvert_exporter": "python",
   "pygments_lexer": "ipython3",
   "version": "3.7.3"
  }
 },
 "nbformat": 4,
 "nbformat_minor": 2
}
