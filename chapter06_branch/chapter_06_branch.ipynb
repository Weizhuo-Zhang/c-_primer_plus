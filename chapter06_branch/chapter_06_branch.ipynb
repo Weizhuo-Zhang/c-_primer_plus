{
  "nbformat": 4,
  "nbformat_minor": 0,
  "metadata": {
    "colab": {
      "name": "Untitled11.ipynb",
      "provenance": []
    },
    "kernelspec": {
      "name": "python3",
      "display_name": "Python 3"
    }
  },
  "cells": [
    {
      "cell_type": "markdown",
      "metadata": {
        "id": "S8vYmS5yab6a",
        "colab_type": "text"
      },
      "source": [
        "# 第6章\n",
        "\n",
        "## 6.2 逻辑表达式\n",
        "如果给读取int值的程序输入一个过大的值，很多C++实现只是将这个值截短为合适的大小，并不会通知丢失了数据。以下代码避免了这种问题\n",
        "```c\n",
        "#include <climits>\n",
        "bool is_int(double x) {\n",
        "    if (x <= INT_MAX && x >= INT_MIN)\n",
        "        return true;\n",
        "    else:\n",
        "        return false;\n",
        "}\n",
        "\n",
        "输出：\n",
        "Enter: 6334534353433\n",
        "Out of range -- please try again: -234234234324234\n",
        "Out of range -- please try again: 99999\n",
        "You've entered the integer 99999\n",
        "```\n",
        "\n",
        "---"
      ]
    },
    {
      "cell_type": "markdown",
      "metadata": {
        "id": "qmcH5zULsLTf",
        "colab_type": "text"
      },
      "source": [
        "## 6.3 字符函数库cctype\n",
        "\n",
        "cctype函数软件包可以简化确定字符是否为大写字母、数字、标点符号等工作。\n",
        "\n",
        "**<center>cctype中的字符</center>**\n",
        "\n",
        "| 函数名称 | 返回值 |\n",
        "|-------- |-------|\n",
        "| isalnum() | 如果参数是字母或数组，返回true |\n",
        "| isalpha() | 如果参数是字母，返回true |\n",
        "| iscntrl() | 如果参数是控制字符，返回true |\n",
        "| isdigit() | 如果参数是数组，返回true |\n",
        "| isgraph() | 如果参数是除空格之外的打印字符，返回true|\n",
        "| islower() | 如果参数是小写字母，返回true |\n",
        "| isprint() | 如果参数是打印字符（包括空格），返回true |\n",
        "| ispunct() | 如果参数是标点符号，返回true |\n",
        "| isspace() | 如果从参数是标准空白字符，如空格、进纸、换行、回车、水平制表符或者垂直制表符，返回true |\n",
        "| isupper() | 如果参数是大写字母，返回true |\n",
        "| isxdigit() | 如果参数是十六进制数字，0-9，A-F，返回true |\n",
        "| tolower() | 返回小写字母 |\n",
        "| toupper()| 返回大写字母 |\n",
        "\n",
        "## 6.4 ?运算符\n",
        "运算符`(?:)`, true -> expression2, false -> expression3\n",
        "```c\n",
        "expressino1 ? expression2 : expression3\n",
        "```\n",
        "\n",
        "## 6.5 switch 语句\n",
        "switch 只能处理整数(包括char)，因此switch无法处理浮点测试。另外case标签值还必须是常量。\n",
        "\n",
        "## 6.6 break 和 continue 语句\n",
        "\n",
        "## 6.7 读取数字的循环\n",
        "\n",
        "---"
      ]
    },
    {
      "cell_type": "markdown",
      "metadata": {
        "id": "HUdHgihx94ym",
        "colab_type": "text"
      },
      "source": [
        "## 6.8 简单文件输入/输出\n",
        "\n",
        "### 6.8.2 写入到文本文件中\n",
        "```c\n",
        "#include <fstream>\n",
        "ofstream outFile;\n",
        "outFile.open(filePath);\n",
        "\n",
        "double wt = 24.5;\n",
        "outFile << wt              // write a number to file\n",
        "char line[82] = \"Objects are closer than they appear.\";\n",
        "outFile << line << endl;   // write a line of text\n",
        "outFile.close();\n",
        "```\n",
        "\n",
        "主要步骤：\n",
        "\n",
        "1. 包含头文件fstream\n",
        "2. 创建一个ofstream对象\n",
        "3. 将该ofstream对象同一个文件关联起来\n",
        "4. 像使用cout那样使用ofstream对象。\n",
        "\n",
        "### 6.8.3 读取文本文件\n",
        "```c\n",
        "#include <fstream>\n",
        "ifstream inFile;\n",
        "inFile.open(filePath);\n",
        "double wt;\n",
        "inFile >> wt;            // read a number from file\n",
        "char line[81];\n",
        "fin.getline(line, 81);  // read a line of text\n",
        "inFile.close();\n",
        "```\n",
        "\n",
        "**检测是否打开成功**\n",
        "```c\n",
        "if (!inFile.is_open())\n",
        "    exit(EXIT_FAILURE);\n",
        "```"
      ]
    }
  ]
}