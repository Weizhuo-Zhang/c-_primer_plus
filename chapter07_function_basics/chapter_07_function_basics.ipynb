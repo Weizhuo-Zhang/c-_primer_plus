{
  "nbformat": 4,
  "nbformat_minor": 0,
  "metadata": {
    "colab": {
      "name": "chapter_07_function_basics.ipynb",
      "provenance": []
    },
    "kernelspec": {
      "name": "python3",
      "display_name": "Python 3"
    }
  },
  "cells": [
    {
      "cell_type": "markdown",
      "metadata": {
        "id": "R7MeIVOGLAJJ",
        "colab_type": "text"
      },
      "source": [
        "# 第7章 函数 -- C++ 的编程模块\n",
        "\n",
        "## 7.2 函数参数和按值传递\n",
        "\n",
        "C++ 标准使用参数(argument)表示实参，使用参量(parameter)来表示形参。\n",
        "\n",
        "## 7.3 函数和数组\n",
        "\n",
        "### "
      ]
    }
  ]
}