{
 "cells": [
  {
   "cell_type": "markdown",
   "metadata": {},
   "source": [
    "# 第13章 类继承\n",
    "\n",
    "## 13.1 一个简单的基类\n",
    "\n",
    "### 13.1.1 派生一个类\n",
    "\n",
    "`RatedPlayer`类声明为从`TableTennisClass`类派生而来：\n",
    "```cpp\n",
    "// RatedPlayer derives from the TableTennisPlayer base class\n",
    "class RatedPlayer : public TableTennisPlayer {\n",
    "...\n",
    "};\n",
    "```\n",
    "\n",
    "冒号指出`RatedPlayer`类的基类是`TableTennisPlayer`类，上述特殊的声明头表明`TableTennisPlayer`是一个公有基类，这被称为公有派生。派生类对象包含基类对象。使用公有派生，基类的公有成员将成为派生类的公有成员；基类的私有部分也将成为派生类的一部分，但只能通过基类的公有方法和保护方法访问。\n",
    "\n",
    "`RatedPlayer`对象将具有以下特征：\n",
    "1. 派生类对象存储了基类的数据成员(派生类继承了基类的实现)\n",
    "2. 派生类对象可以使用基类的方法(派生类继承了基类的接口)\n",
    "\n",
    "\n",
    "\n",
    "### 13.1.2 构造函数：访问权限的考虑\n",
    "\n",
    "派生类不能直接访问基类的私有成员，而必须通过基类方法进行访问。派生类的构造函数必须使用基类构造函数。\n",
    "\n",
    "创建派生类对象时，程序首先创建基类对象。C++使用成员初始化列语法来完成这种工作。\n",
    "```cpp\n",
    "RatedPlayer::RatedPlayer(unsigned int r, const string & fn,\n",
    "    const string & ln, bool ht) : TableTennisPlayer(fn, ln, ht)\n",
    "{\n",
    "    rating = r;\n",
    "}\n",
    "```\n",
    "\n",
    "其中`:TableTennisPlayer(fn, ln, ht)`是成员初始化列表。它是可执行代码，调用`TableTennisPlayer`构造函数。\n",
    "\n",
    "### 13.1.3 使用派生类\n",
    "\n",
    "### 13.1.4 派生类和基类之间的特殊关系\n",
    "\n",
    "---"
   ]
  },
  {
   "cell_type": "markdown",
   "metadata": {},
   "source": [
    "## 13.2 继承：is-a 关系\n",
    "\n",
    "---"
   ]
  },
  {
   "cell_type": "markdown",
   "metadata": {},
   "source": [
    "## 13.3 多态公有继承\n",
    "\n",
    "---"
   ]
  },
  {
   "cell_type": "markdown",
   "metadata": {},
   "source": [
    "## 13.4 静态联编和动态联编\n",
    "\n",
    "### 13.4.1  指针和引用类型的兼容性\n",
    "\n",
    "### 13.4.2 虚成员函数和动态联编\n",
    "\n",
    "### 13.4.3 有关虚函数的注意事项\n",
    "\n",
    "---"
   ]
  },
  {
   "cell_type": "markdown",
   "metadata": {},
   "source": [
    "## 13.5 访问控制:  protected\n",
    "\n",
    "---"
   ]
  },
  {
   "cell_type": "markdown",
   "metadata": {},
   "source": [
    "## 13.6 抽象基类\n",
    "\n",
    "### 13.6.1 应用 ABC 概念\n",
    "\n",
    "\n",
    "### 13.6.2 ABC理念\n",
    "\n",
    "---"
   ]
  },
  {
   "cell_type": "markdown",
   "metadata": {},
   "source": [
    "## 13.7 继承和动态内存分配\n",
    "\n",
    "### 13.7.1 第一种情况：派生类不使用new\n",
    "\n",
    "### 13.7.2 第二种情况：派生类使用new\n",
    "\n",
    "### 13.7.3 使用动态内存分配和友元的继承示例\n",
    "\n",
    "---"
   ]
  },
  {
   "cell_type": "markdown",
   "metadata": {},
   "source": [
    "## 13.8 类设计回顾\n",
    "\n",
    "### 13.8.1 编译器生成的成员函数\n",
    "\n",
    "### 13.8.2 其他的类方法\n",
    "\n",
    "### 13.8.3 公有继承的考虑因素\n",
    "\n",
    "### 13.8.4 类函数小结\n",
    "\n",
    "---"
   ]
  }
 ],
 "metadata": {
  "kernelspec": {
   "display_name": "Python 3",
   "language": "python",
   "name": "python3"
  },
  "language_info": {
   "codemirror_mode": {
    "name": "ipython",
    "version": 3
   },
   "file_extension": ".py",
   "mimetype": "text/x-python",
   "name": "python",
   "nbconvert_exporter": "python",
   "pygments_lexer": "ipython3",
   "version": "3.7.3"
  }
 },
 "nbformat": 4,
 "nbformat_minor": 2
}
