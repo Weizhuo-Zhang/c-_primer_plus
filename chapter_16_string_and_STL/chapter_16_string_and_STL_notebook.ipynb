{
  "nbformat": 4,
  "nbformat_minor": 0,
  "metadata": {
    "colab": {
      "name": "chapter_16_string_and_STL_notebook.ipynb",
      "provenance": []
    },
    "kernelspec": {
      "name": "python3",
      "display_name": "Python 3"
    }
  },
  "cells": [
    {
      "cell_type": "markdown",
      "metadata": {
        "id": "Yq9MsVMZz9Pd",
        "colab_type": "text"
      },
      "source": [
        "# 第16章 string类和标准模板库\n",
        "\n",
        "## 16.2 智能指针模板类"
      ]
    }
  ]
}